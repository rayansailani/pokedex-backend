{
 "cells": [
  {
   "cell_type": "code",
   "execution_count": 87,
   "id": "2ced367d-5366-4136-aa7d-44acfecdab33",
   "metadata": {},
   "outputs": [],
   "source": [
    "import os\n",
    "import numpy as np\n",
    "import tensorflow as tf\n",
    "from tensorflow.keras.preprocessing import image\n",
    "from tensorflow.keras.applications.vgg16 import VGG16, preprocess_input\n",
    "from sklearn.preprocessing import LabelEncoder\n",
    "import faiss\n",
    "import PIL\n",
    "from PIL import Image\n"
   ]
  },
  {
   "cell_type": "code",
   "execution_count": 88,
   "id": "0c4fd1e6-0f09-476a-994a-f32debd0eb39",
   "metadata": {},
   "outputs": [],
   "source": [
    "data_dir = './images'"
   ]
  },
  {
   "cell_type": "code",
   "execution_count": 89,
   "id": "ed4ab488-6dba-4026-aa8a-82bfef11ecfa",
   "metadata": {},
   "outputs": [],
   "source": [
    "def load_images(data_dir):\n",
    "    images = []\n",
    "    labels = []\n",
    "    \n",
    "    # Iterate over each folder (representing Pokémon species)\n",
    "    for folder in os.listdir(data_dir):\n",
    "        folder_path = os.path.join(data_dir, folder)\n",
    "        \n",
    "        # Check if it's a directory (folder)\n",
    "        if os.path.isdir(folder_path):\n",
    "            # Iterate over each image file in the folder\n",
    "            img_path = os.path.join(folder_path, '0.jpg')\n",
    "            img = image.load_img(img_path, target_size=(224, 224))\n",
    "            img_array = image.img_to_array(img)\n",
    "            img_array = preprocess_input(img_array)\n",
    "            images.append(img_array)\n",
    "            labels.append(folder)\n",
    "\n",
    "    # Convert lists to numpy arrays\n",
    "    return np.array(images), np.array(labels)"
   ]
  },
  {
   "cell_type": "code",
   "execution_count": 90,
   "id": "0558c8c9-ecbe-405a-92d0-ddf7d777d79b",
   "metadata": {},
   "outputs": [],
   "source": [
    "images, labels = load_images(data_dir)\n",
    "le = LabelEncoder()\n",
    "labels_encoded = le.fit_transform(labels)"
   ]
  },
  {
   "cell_type": "code",
   "execution_count": 91,
   "id": "1051804e-a1ac-4079-9412-3e90a6e63888",
   "metadata": {},
   "outputs": [
    {
     "name": "stdout",
     "output_type": "stream",
     "text": [
      "(898, 224, 224, 3)\n",
      "(898,)\n"
     ]
    }
   ],
   "source": [
    "print(images.shape)\n",
    "print(labels.shape)"
   ]
  },
  {
   "cell_type": "code",
   "execution_count": 93,
   "id": "93f09088-f450-4183-8d56-7161c92e623f",
   "metadata": {},
   "outputs": [
    {
     "name": "stdout",
     "output_type": "stream",
     "text": [
      "\u001b[1m29/29\u001b[0m \u001b[32m━━━━━━━━━━━━━━━━━━━━\u001b[0m\u001b[37m\u001b[0m \u001b[1m62s\u001b[0m 2s/step\n"
     ]
    }
   ],
   "source": [
    "base_model = VGG16(weights='imagenet', include_top=False, pooling='avg')\n",
    "\n",
    "# Extract features from images\n",
    "features = base_model.predict(images)\n",
    "\n",
    "# Save the features and labels\n",
    "np.save('pokemon_features.npy', features)\n",
    "np.save('pokemon_labels.npy', labels_encoded)"
   ]
  },
  {
   "cell_type": "code",
   "execution_count": 94,
   "id": "2593c4ac-15eb-40af-b1db-cd13fbdbf287",
   "metadata": {},
   "outputs": [],
   "source": [
    "# Load features and set up FAISS index\n",
    "features = np.load('pokemon_features.npy')\n",
    "labels_encoded = np.load('pokemon_labels.npy')"
   ]
  },
  {
   "cell_type": "code",
   "execution_count": 95,
   "id": "94547776-606d-4ee5-8046-bed913c4fd76",
   "metadata": {},
   "outputs": [],
   "source": [
    "index = faiss.IndexFlatL2(features.shape[1])\n",
    "index.add(features)\n",
    "faiss.write_index(index, 'pokemon_index.index')"
   ]
  },
  {
   "cell_type": "code",
   "execution_count": 96,
   "id": "16b7f7f8-8c7c-4fd1-a14c-1f3509ae5990",
   "metadata": {},
   "outputs": [],
   "source": [
    "def find_closest_pokemon(img_path, model, index, labels):\n",
    "    img = image.load_img(img_path, target_size=(224, 224))\n",
    "    img_array = image.img_to_array(img)\n",
    "    img_array = preprocess_input(img_array)\n",
    "    img_array = np.expand_dims(img_array, axis=0)\n",
    "    img_features = model.predict(img_array)\n",
    "    \n",
    "    distances, indices = index.search(img_features, 1)\n",
    "    closest_pokemon_idx = indices[0][0]\n",
    "    closest_pokemon_label = labels[closest_pokemon_idx]\n",
    "    \n",
    "    return closest_pokemon_label"
   ]
  },
  {
   "cell_type": "code",
   "execution_count": 120,
   "id": "7f4dace6-8132-4c52-9ef5-b87525abed26",
   "metadata": {},
   "outputs": [
    {
     "name": "stdout",
     "output_type": "stream",
     "text": [
      "\u001b[1m1/1\u001b[0m \u001b[32m━━━━━━━━━━━━━━━━━━━━\u001b[0m\u001b[37m\u001b[0m \u001b[1m0s\u001b[0m 105ms/step\n",
      "The closest Pokémon is: Electrike\n"
     ]
    }
   ],
   "source": [
    "input_image_path = 'images/Totodile/1.jpg'  # Replace with the actual path to your test image\n",
    "closest_pokemon = find_closest_pokemon(input_image_path, base_model, index, labels_encoded)\n",
    "print(f\"The closest Pokémon is: {le.inverse_transform([closest_pokemon])[0]}\")"
   ]
  },
  {
   "cell_type": "code",
   "execution_count": null,
   "id": "8f8de9f4-82b5-467f-af40-f3f0580f37d1",
   "metadata": {},
   "outputs": [],
   "source": [
    "print(labels_encoded)"
   ]
  }
 ],
 "metadata": {
  "kernelspec": {
   "display_name": "Python 3 (ipykernel)",
   "language": "python",
   "name": "python3"
  },
  "language_info": {
   "codemirror_mode": {
    "name": "ipython",
    "version": 3
   },
   "file_extension": ".py",
   "mimetype": "text/x-python",
   "name": "python",
   "nbconvert_exporter": "python",
   "pygments_lexer": "ipython3",
   "version": "3.9.6"
  }
 },
 "nbformat": 4,
 "nbformat_minor": 5
}
